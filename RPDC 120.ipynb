{
  "nbformat": 4,
  "nbformat_minor": 0,
  "metadata": {
    "colab": {
      "provenance": [],
      "gpuType": "T4",
      "authorship_tag": "ABX9TyOwvv9MYnphwMLNVuzkqxnr",
      "include_colab_link": true
    },
    "kernelspec": {
      "name": "python3",
      "display_name": "Python 3"
    },
    "language_info": {
      "name": "python"
    },
    "accelerator": "GPU"
  },
  "cells": [
    {
      "cell_type": "markdown",
      "metadata": {
        "id": "view-in-github",
        "colab_type": "text"
      },
      "source": [
        "<a href=\"https://colab.research.google.com/github/SMunira38/Final-Project/blob/main/RPDC%20120.ipynb\" target=\"_parent\"><img src=\"https://colab.research.google.com/assets/colab-badge.svg\" alt=\"Open In Colab\"/></a>"
      ]
    },
    {
      "cell_type": "code",
      "execution_count": 15,
      "metadata": {
        "colab": {
          "base_uri": "https://localhost:8080/"
        },
        "id": "LjKnu7Ixu_qO",
        "outputId": "7ce43352-2d00-4520-af25-2f629abc6724"
      },
      "outputs": [
        {
          "output_type": "stream",
          "name": "stdout",
          "text": [
            "Drive already mounted at /content/drive; to attempt to forcibly remount, call drive.mount(\"/content/drive\", force_remount=True).\n"
          ]
        }
      ],
      "source": [
        "from google.colab import drive\n",
        "drive.mount('/content/drive')"
      ]
    },
    {
      "cell_type": "code",
      "source": [
        "\n",
        "import os\n",
        "import torch\n",
        "import torch.nn as nn\n",
        "import torchvision\n",
        "import torchvision.transforms as transforms\n",
        "import torch.optim as optim\n",
        "from torchvision.models import vgg19\n",
        "import matplotlib.pyplot as plt\n",
        "from sklearn.metrics import precision_score, recall_score, f1_score\n",
        "import numpy as np\n",
        "from torch.utils.data import random_split"
      ],
      "metadata": {
        "id": "6htOaisXvUPD"
      },
      "execution_count": 16,
      "outputs": []
    },
    {
      "cell_type": "code",
      "source": [
        "# Set random seed for reproducibility\n",
        "torch.manual_seed(42)\n"
      ],
      "metadata": {
        "colab": {
          "base_uri": "https://localhost:8080/"
        },
        "id": "zi5ZLNHjvqDE",
        "outputId": "b2d1ed79-76f2-423f-fb5c-be7d6fead66c"
      },
      "execution_count": 17,
      "outputs": [
        {
          "output_type": "execute_result",
          "data": {
            "text/plain": [
              "<torch._C.Generator at 0x7b8408791290>"
            ]
          },
          "metadata": {},
          "execution_count": 17
        }
      ]
    },
    {
      "cell_type": "code",
      "source": [
        "\n",
        "# Define paths for the dataset\n",
        "data_dir = '/content/drive/MyDrive/rice_leaf_diseases'\n",
        "batch_size = 32"
      ],
      "metadata": {
        "id": "fCRZLjhrvw8e"
      },
      "execution_count": 18,
      "outputs": []
    },
    {
      "cell_type": "code",
      "source": [
        "\n",
        "# Define data transformations\n",
        "transform = transforms.Compose([\n",
        "    transforms.Resize((224, 224)),\n",
        "    transforms.ToTensor(),\n",
        "    transforms.Normalize(mean=[0.485, 0.456, 0.406], std=[0.229, 0.224, 0.225])\n",
        "])\n",
        "# Load the entire dataset from Google Drive\n",
        "dataset = torchvision.datasets.ImageFolder(root=data_dir, transform=transform)"
      ],
      "metadata": {
        "id": "W18adL_dvUaR"
      },
      "execution_count": 19,
      "outputs": []
    },
    {
      "cell_type": "code",
      "source": [
        "import random\n",
        "from tabulate import tabulate\n",
        "\n",
        "# Create dictionaries to store data for train, validation, and test splits for each class\n",
        "train_class_data = {class_idx: [] for class_idx in range(len(dataset.classes))}\n",
        "val_class_data = {class_idx: [] for class_idx in range(len(dataset.classes))}\n",
        "test_class_data = {class_idx: [] for class_idx in range(len(dataset.classes))}\n",
        "\n",
        "# Define the proportions for train, validation, and test\n",
        "train_proportion = 0.70\n",
        "val_proportion = 0.15\n",
        "test_proportion = 0.15\n",
        "\n",
        "# Split the data for each class while ensuring balance\n",
        "for class_idx in range(len(dataset.classes)):\n",
        "    class_data = [(data, target) for data, target in dataset if target == class_idx]\n",
        "    random.shuffle(class_data)  # Shuffle the data for each class\n",
        "\n",
        "    total_samples = len(class_data)\n",
        "    train_size = int(train_proportion * total_samples)\n",
        "    val_test_size = int(val_proportion * total_samples)\n",
        "\n",
        "    train_class_data[class_idx] = class_data[:train_size]\n",
        "    val_class_data[class_idx] = class_data[train_size:(train_size + val_test_size)]\n",
        "    test_class_data[class_idx] = class_data[(train_size + val_test_size):(train_size + 2*val_test_size)]\n",
        "\n",
        "# Merge data for all classes into train, validation, and test sets\n",
        "train_data = [item for sublist in train_class_data.values() for item in sublist]\n",
        "val_data = [item for sublist in val_class_data.values() for item in sublist]\n",
        "test_data = [item for sublist in test_class_data.values() for item in sublist]\n",
        "\n",
        "# Define data loaders for each set\n",
        "train_loader = torch.utils.data.DataLoader(train_data, batch_size=batch_size, shuffle=True)\n",
        "val_loader = torch.utils.data.DataLoader(val_data, batch_size=batch_size)\n",
        "test_loader = torch.utils.data.DataLoader(test_data, batch_size=batch_size)\n",
        "\n",
        "\n",
        "# Print the counts for each class in each set in a tabular form\n",
        "print(\"Class-wise Data:\")\n",
        "table_data = []\n",
        "for class_idx in range(len(dataset.classes)):\n",
        "    class_name = dataset.classes[class_idx]\n",
        "    train_count = len(train_class_data[class_idx])\n",
        "    val_count = len(val_class_data[class_idx])\n",
        "    test_count = len(test_class_data[class_idx])\n",
        "    table_data.append([class_name, train_count, val_count, test_count])\n",
        "\n",
        "# Create headers for the table\n",
        "headers = [\"Class\", \"Train Sample\", \"Validation Sample\", \"Test Sample\"]\n",
        "# Print the tabulated data\n",
        "print(tabulate(table_data, headers, tablefmt='grid'))"
      ],
      "metadata": {
        "colab": {
          "base_uri": "https://localhost:8080/"
        },
        "id": "RR4qrSFPwAqu",
        "outputId": "e9da8158-c5b3-4de8-85cd-67a0c19283f5"
      },
      "execution_count": 20,
      "outputs": [
        {
          "output_type": "stream",
          "name": "stdout",
          "text": [
            "Class-wise Data:\n",
            "+-----------------------+----------------+---------------------+---------------+\n",
            "| Class                 |   Train Sample |   Validation Sample |   Test Sample |\n",
            "+=======================+================+=====================+===============+\n",
            "| Bacterial leaf blight |             28 |                   6 |             6 |\n",
            "+-----------------------+----------------+---------------------+---------------+\n",
            "| Brown spot            |             28 |                   6 |             6 |\n",
            "+-----------------------+----------------+---------------------+---------------+\n",
            "| Leaf smut             |             28 |                   6 |             6 |\n",
            "+-----------------------+----------------+---------------------+---------------+\n"
          ]
        }
      ]
    },
    {
      "cell_type": "code",
      "source": [
        "   # Get the total number of classes and total number of images\n",
        "total_classes = len(dataset.classes)\n",
        "total_images = len(dataset)\n",
        "\n",
        "# Get the total number of images in the train, validation, and test sets\n",
        "total_train_images = len(train_data)\n",
        "total_val_images = len(val_data)\n",
        "total_test_images = len(test_data)\n",
        "\n",
        "print(f\"Total Classes: {total_classes}\")\n",
        "print(f\"Total Images: {total_images}\")\n",
        "\n",
        "print(f\"Total Train Images: {total_train_images}\")\n",
        "print(f\"Total Validation Images: {total_val_images}\")\n",
        "print(f\"Total Test Images: {total_test_images}\")"
      ],
      "metadata": {
        "colab": {
          "base_uri": "https://localhost:8080/"
        },
        "id": "GL-mh_BcwGKz",
        "outputId": "5e728a20-8bf8-4633-fdd4-bc58f2ab9bae"
      },
      "execution_count": 21,
      "outputs": [
        {
          "output_type": "stream",
          "name": "stdout",
          "text": [
            "Total Classes: 3\n",
            "Total Images: 120\n",
            "Total Train Images: 84\n",
            "Total Validation Images: 18\n",
            "Total Test Images: 18\n"
          ]
        }
      ]
    },
    {
      "cell_type": "code",
      "source": [
        "num_classes=len(dataset.classes)\n",
        "# Load the pre-trained VGG19 model and modify it for your classification task\n",
        "\n",
        "model = vgg19(pretrained=True)\n",
        "model.classifier[6] = nn.Linear(4096, num_classes)\n",
        "device = torch.device(\"cuda\" if torch.cuda.is_available() else \"cpu\")\n",
        "model.to(device)"
      ],
      "metadata": {
        "colab": {
          "base_uri": "https://localhost:8080/"
        },
        "id": "_S9lPB2YyWvr",
        "outputId": "341c302d-9be8-425b-8fe5-772a47ed71d6"
      },
      "execution_count": 22,
      "outputs": [
        {
          "output_type": "execute_result",
          "data": {
            "text/plain": [
              "VGG(\n",
              "  (features): Sequential(\n",
              "    (0): Conv2d(3, 64, kernel_size=(3, 3), stride=(1, 1), padding=(1, 1))\n",
              "    (1): ReLU(inplace=True)\n",
              "    (2): Conv2d(64, 64, kernel_size=(3, 3), stride=(1, 1), padding=(1, 1))\n",
              "    (3): ReLU(inplace=True)\n",
              "    (4): MaxPool2d(kernel_size=2, stride=2, padding=0, dilation=1, ceil_mode=False)\n",
              "    (5): Conv2d(64, 128, kernel_size=(3, 3), stride=(1, 1), padding=(1, 1))\n",
              "    (6): ReLU(inplace=True)\n",
              "    (7): Conv2d(128, 128, kernel_size=(3, 3), stride=(1, 1), padding=(1, 1))\n",
              "    (8): ReLU(inplace=True)\n",
              "    (9): MaxPool2d(kernel_size=2, stride=2, padding=0, dilation=1, ceil_mode=False)\n",
              "    (10): Conv2d(128, 256, kernel_size=(3, 3), stride=(1, 1), padding=(1, 1))\n",
              "    (11): ReLU(inplace=True)\n",
              "    (12): Conv2d(256, 256, kernel_size=(3, 3), stride=(1, 1), padding=(1, 1))\n",
              "    (13): ReLU(inplace=True)\n",
              "    (14): Conv2d(256, 256, kernel_size=(3, 3), stride=(1, 1), padding=(1, 1))\n",
              "    (15): ReLU(inplace=True)\n",
              "    (16): Conv2d(256, 256, kernel_size=(3, 3), stride=(1, 1), padding=(1, 1))\n",
              "    (17): ReLU(inplace=True)\n",
              "    (18): MaxPool2d(kernel_size=2, stride=2, padding=0, dilation=1, ceil_mode=False)\n",
              "    (19): Conv2d(256, 512, kernel_size=(3, 3), stride=(1, 1), padding=(1, 1))\n",
              "    (20): ReLU(inplace=True)\n",
              "    (21): Conv2d(512, 512, kernel_size=(3, 3), stride=(1, 1), padding=(1, 1))\n",
              "    (22): ReLU(inplace=True)\n",
              "    (23): Conv2d(512, 512, kernel_size=(3, 3), stride=(1, 1), padding=(1, 1))\n",
              "    (24): ReLU(inplace=True)\n",
              "    (25): Conv2d(512, 512, kernel_size=(3, 3), stride=(1, 1), padding=(1, 1))\n",
              "    (26): ReLU(inplace=True)\n",
              "    (27): MaxPool2d(kernel_size=2, stride=2, padding=0, dilation=1, ceil_mode=False)\n",
              "    (28): Conv2d(512, 512, kernel_size=(3, 3), stride=(1, 1), padding=(1, 1))\n",
              "    (29): ReLU(inplace=True)\n",
              "    (30): Conv2d(512, 512, kernel_size=(3, 3), stride=(1, 1), padding=(1, 1))\n",
              "    (31): ReLU(inplace=True)\n",
              "    (32): Conv2d(512, 512, kernel_size=(3, 3), stride=(1, 1), padding=(1, 1))\n",
              "    (33): ReLU(inplace=True)\n",
              "    (34): Conv2d(512, 512, kernel_size=(3, 3), stride=(1, 1), padding=(1, 1))\n",
              "    (35): ReLU(inplace=True)\n",
              "    (36): MaxPool2d(kernel_size=2, stride=2, padding=0, dilation=1, ceil_mode=False)\n",
              "  )\n",
              "  (avgpool): AdaptiveAvgPool2d(output_size=(7, 7))\n",
              "  (classifier): Sequential(\n",
              "    (0): Linear(in_features=25088, out_features=4096, bias=True)\n",
              "    (1): ReLU(inplace=True)\n",
              "    (2): Dropout(p=0.5, inplace=False)\n",
              "    (3): Linear(in_features=4096, out_features=4096, bias=True)\n",
              "    (4): ReLU(inplace=True)\n",
              "    (5): Dropout(p=0.5, inplace=False)\n",
              "    (6): Linear(in_features=4096, out_features=3, bias=True)\n",
              "  )\n",
              ")"
            ]
          },
          "metadata": {},
          "execution_count": 22
        }
      ]
    },
    {
      "cell_type": "code",
      "source": [
        "# Define loss function and optimizer\n",
        "criterion = nn.CrossEntropyLoss()\n",
        "optimizer = optim.SGD(model.parameters(), lr=0.001, momentum=0.9)"
      ],
      "metadata": {
        "id": "dvf_blKWycmZ"
      },
      "execution_count": 23,
      "outputs": []
    },
    {
      "cell_type": "code",
      "source": [
        "# Training loop\n",
        "num_epochs = 15\n",
        "train_losses = []\n",
        "train_accuracies = []\n",
        "val_losses = []\n",
        "val_accuracies = []\n",
        "test_accuracies = []  # List to store testing accuracies for each epoch\n",
        "\n",
        "for epoch in range(num_epochs):\n",
        "    model.train()\n",
        "    running_loss = 0.0\n",
        "    correct_predictions_train = 0\n",
        "    total_samples_train = 0\n",
        "\n",
        "    for images, labels in train_loader:\n",
        "        images = images.to(device)\n",
        "        labels = labels.to(device)\n",
        "\n",
        "        optimizer.zero_grad()\n",
        "        outputs = model(images)\n",
        "        loss = criterion(outputs, labels)\n",
        "        loss.backward()\n",
        "        optimizer.step()\n",
        "\n",
        "        running_loss += loss.item()\n",
        "\n",
        "        _, predicted = torch.max(outputs.data, 1)\n",
        "        total_samples_train += labels.size(0)\n",
        "        correct_predictions_train += (predicted == labels).sum().item()\n",
        "\n",
        "    train_losses.append(running_loss / len(train_loader))\n",
        "    train_accuracy = correct_predictions_train / total_samples_train\n",
        "    train_accuracies.append(train_accuracy)\n",
        "\n",
        "    # Validation loop\n",
        "    model.eval()\n",
        "    running_val_loss = 0.0\n",
        "    correct_predictions_val = 0\n",
        "    total_samples_val = 0\n",
        "\n",
        "    with torch.no_grad():\n",
        "        for images, labels in val_loader:\n",
        "            images = images.to(device)\n",
        "            labels = labels.to(device)\n",
        "\n",
        "            outputs = model(images)\n",
        "            loss = criterion(outputs, labels)\n",
        "            running_val_loss += loss.item()\n",
        "\n",
        "            _, predicted = torch.max(outputs.data, 1)\n",
        "            total_samples_val += labels.size(0)\n",
        "            correct_predictions_val += (predicted == labels).sum().item()\n",
        "\n",
        "    val_losses.append(running_val_loss / len(val_loader))\n",
        "    val_accuracy = correct_predictions_val / total_samples_val\n",
        "    val_accuracies.append(val_accuracy)\n",
        "\n",
        "    # Testing loop\n",
        "    model.eval()\n",
        "    correct_predictions_test = 0\n",
        "    total_samples_test = 0\n",
        "    actual_labels_test = []\n",
        "    predicted_labels_test = []\n",
        "\n",
        "    with torch.no_grad():\n",
        "        for images, labels in test_loader:\n",
        "            images = images.to(device)\n",
        "            labels = labels.to(device)\n",
        "\n",
        "            outputs = model(images)\n",
        "            _, predicted = torch.max(outputs.data, 1)\n",
        "            total_samples_test += labels.size(0)\n",
        "            correct_predictions_test += (predicted == labels).sum().item()\n",
        "\n",
        "            # Append actual and predicted labels for testing\n",
        "            actual_labels_test += labels.cpu().numpy().tolist()\n",
        "            predicted_labels_test += predicted.cpu().numpy().tolist()\n",
        "\n",
        "    test_accuracy = correct_predictions_test / total_samples_test\n",
        "    test_accuracies.append(test_accuracy)\n",
        "\n",
        "    print(f\"Epoch [{epoch + 1}/{num_epochs}] - Train Loss: {train_losses[-1]:.6f} - Train Acc: {train_accuracy * 100:.2f}% - Val Loss: {val_losses[-1]:.6f} - Val Acc: {val_accuracy * 100:.2f}% - Test Acc: {test_accuracy * 100:.2f}%\")\n",
        "\n",
        "\n",
        "print(\"Finished Training\")"
      ],
      "metadata": {
        "colab": {
          "base_uri": "https://localhost:8080/"
        },
        "id": "v_QH9xtSyjKr",
        "outputId": "6f9700d1-b328-402a-8559-6e3f010e3d2b"
      },
      "execution_count": 24,
      "outputs": [
        {
          "output_type": "stream",
          "name": "stdout",
          "text": [
            "Epoch [1/15] - Train Loss: 1.176919 - Train Acc: 29.76% - Val Loss: 1.134700 - Val Acc: 33.33% - Test Acc: 33.33%\n",
            "Epoch [2/15] - Train Loss: 1.032605 - Train Acc: 44.05% - Val Loss: 0.931111 - Val Acc: 55.56% - Test Acc: 55.56%\n",
            "Epoch [3/15] - Train Loss: 0.834751 - Train Acc: 64.29% - Val Loss: 0.731047 - Val Acc: 72.22% - Test Acc: 77.78%\n",
            "Epoch [4/15] - Train Loss: 0.604448 - Train Acc: 84.52% - Val Loss: 0.588530 - Val Acc: 77.78% - Test Acc: 88.89%\n",
            "Epoch [5/15] - Train Loss: 0.375098 - Train Acc: 91.67% - Val Loss: 0.545603 - Val Acc: 83.33% - Test Acc: 83.33%\n",
            "Epoch [6/15] - Train Loss: 0.230270 - Train Acc: 94.05% - Val Loss: 0.535916 - Val Acc: 88.89% - Test Acc: 88.89%\n",
            "Epoch [7/15] - Train Loss: 0.149812 - Train Acc: 97.62% - Val Loss: 0.629787 - Val Acc: 83.33% - Test Acc: 88.89%\n",
            "Epoch [8/15] - Train Loss: 0.157191 - Train Acc: 95.24% - Val Loss: 0.519804 - Val Acc: 83.33% - Test Acc: 88.89%\n",
            "Epoch [9/15] - Train Loss: 0.054282 - Train Acc: 98.81% - Val Loss: 0.600683 - Val Acc: 83.33% - Test Acc: 94.44%\n",
            "Epoch [10/15] - Train Loss: 0.050521 - Train Acc: 98.81% - Val Loss: 0.571080 - Val Acc: 83.33% - Test Acc: 94.44%\n",
            "Epoch [11/15] - Train Loss: 0.029229 - Train Acc: 98.81% - Val Loss: 0.484504 - Val Acc: 88.89% - Test Acc: 94.44%\n",
            "Epoch [12/15] - Train Loss: 0.019734 - Train Acc: 100.00% - Val Loss: 0.571924 - Val Acc: 88.89% - Test Acc: 94.44%\n",
            "Epoch [13/15] - Train Loss: 0.006119 - Train Acc: 100.00% - Val Loss: 0.702375 - Val Acc: 88.89% - Test Acc: 94.44%\n",
            "Epoch [14/15] - Train Loss: 0.004269 - Train Acc: 100.00% - Val Loss: 0.842152 - Val Acc: 88.89% - Test Acc: 94.44%\n",
            "Epoch [15/15] - Train Loss: 0.006594 - Train Acc: 100.00% - Val Loss: 0.893777 - Val Acc: 88.89% - Test Acc: 94.44%\n",
            "Finished Training\n"
          ]
        }
      ]
    }
  ]
}